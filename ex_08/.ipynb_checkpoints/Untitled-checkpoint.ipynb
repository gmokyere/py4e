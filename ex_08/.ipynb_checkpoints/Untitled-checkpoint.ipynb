{
 "cells": [
  {
   "cell_type": "code",
   "execution_count": null,
   "metadata": {},
   "outputs": [],
   "source": [
    "print(\"Hola welcome to ex8, pg106\\n\")\n",
    "\n",
    "count = 0\n",
    "inp = input(\"Please enter a filename: \")\n",
    "fh = open(inp)\n",
    "for line in fh:\n",
    "    line = line.rstrip() #delete right side white space\n",
    "    \n",
    "    #Gaurdian\n",
    "    if len(line) <3:\n",
    "        continue\n",
    "        \n",
    "    if not line.startswith(\"From \"): #skip lines that do not start from \"from\"\n",
    "        continue\n",
    "    word = line.split()\n",
    "    count += 1\n",
    "    print(word[2])\n",
    "            \n",
    "print(\"\\nThere were\", count, \"words starting with 'from' \")"
   ]
  },
  {
   "cell_type": "code",
   "execution_count": null,
   "metadata": {},
   "outputs": [],
   "source": [
    "print(\"Hola welcome to ex8, pg106\\n\")\n",
    "\n",
    "num = list()\n",
    "\n",
    "while True:\n",
    "    inp = input(\"Enter a number, Enter done if done \")\n",
    "    if inp == \"done\":\n",
    "        break\n",
    "    try:\n",
    "        inp = float(inp)\n",
    "    except:\n",
    "            print(\"Enter a valid number\")\n",
    "            continue\n",
    "    num.append(inp)\n",
    "    \n",
    "    \n",
    "\n",
    "print(\"\\nMax is:\", max(num), \"\\nMin is:\", min(num))"
   ]
  },
  {
   "cell_type": "code",
   "execution_count": null,
   "metadata": {},
   "outputs": [],
   "source": [
    "print(\"Hola welcome to ex8, pg105\\n\")\n",
    "fh = open('romeo.txt')\n",
    "words = list()\n",
    "for line in fh:\n",
    "    wrd = line.rstrip()\n",
    "    wrd = wrd.split()\n",
    "    for word in wrd:\n",
    "        if word not in words:\n",
    "            words.append(word)\n",
    "            \n",
    "print(sorted(words))"
   ]
  },
  {
   "cell_type": "code",
   "execution_count": null,
   "metadata": {},
   "outputs": [],
   "source": [
    "print(\"Hola welcome to ex10\\n\")\n",
    "\n",
    "inp = input(\"Please enter a filename: \")\n",
    "\n",
    "try:\n",
    "    fh = open(inp)\n",
    "except:\n",
    "    print(\"File cannot be opened:\", inp)\n",
    "    quit()\n",
    "\n",
    "words = fh.read() #read file to one big string\n",
    "words = words.lower() #cover to lower case\n",
    "tword = tuple(words) # convert to letters\n",
    "\n",
    "lst = list()\n",
    "for w in tword:\n",
    "    if w.isalpha():\n",
    "        lst.append(w) "
   ]
  },
  {
   "cell_type": "code",
   "execution_count": null,
   "metadata": {
    "scrolled": true
   },
   "outputs": [],
   "source": [
    "a = \"input to lower case and only count\"\n",
    "list(a)"
   ]
  },
  {
   "cell_type": "code",
   "execution_count": null,
   "metadata": {},
   "outputs": [],
   "source": [
    "print(\"Hey there! Welcome to ex9\\n\")\n",
    "\n",
    "inp = input(\"Please enter filename: \")\n",
    "try:\n",
    "    fh = open(inp)\n",
    "except:\n",
    "    print(\"file cannot be opened or does not exist: \", inp)\n",
    "    quit()\n",
    "    \n",
    "    \n",
    "di = dict()\n",
    "    \n",
    "for line in fh: \n",
    "    #Gaurdian\n",
    "    if len(line) <3:\n",
    "        continue\n",
    "    \n",
    "    line = line.strip()\n",
    "    if not line.startswith(\"From\"): #go through each line and skip those that do start with \"From\"\n",
    "        continue\n",
    "    words = line.split()  #split line into list\n",
    "    piece = words[-1]      #get day of the week from list\n",
    "    di[piece] = di.get(piece, 0)+1 #if word exist add one, else set default to zero and add 1\n",
    "\n",
    "print(di)   "
   ]
  },
  {
   "cell_type": "code",
   "execution_count": null,
   "metadata": {},
   "outputs": [],
   "source": [
    "print(\"Hey there! Welcome to ex9\\n\")\n",
    "\n",
    "inp = input(\"Please enter filename: \")\n",
    "try:\n",
    "    fh = open(inp)\n",
    "except:\n",
    "    print(\"file cannot be opened or does not exist: \", inp)\n",
    "    quit()\n",
    "    \n",
    "    \n",
    "di = dict()\n",
    "    \n",
    "for line in fh: \n",
    "    #Gaurdian\n",
    "    if len(line) < 1:\n",
    "        continue\n",
    "    \n",
    "    line = line.rstrip()\n",
    "    #go through each line and skip those that do start with \"From \" \n",
    "        #NB: be sure to add space after from\n",
    "    if not line.startswith(\"From \"): \n",
    "        continue\n",
    "    \n",
    "    print(line)   "
   ]
  },
  {
   "cell_type": "code",
   "execution_count": null,
   "metadata": {},
   "outputs": [],
   "source": [
    "print(\"Hey there! Welcome to ex9\\n\")\n",
    "\n",
    "inp = input(\"Please enter filename: \")\n",
    "try:\n",
    "    fh = open(inp)\n",
    "except:\n",
    "    print(\"file cannot be opened or does not exist: \", inp)\n",
    "    quit()\n",
    "\n",
    "\n",
    "di = dict()\n",
    "\n",
    "for line in fh:\n",
    "    #Gaurdian\n",
    "    if len(line) < 1:\n",
    "        continue\n",
    "\n",
    "    line = line.rstrip()\n",
    "    #go through each line and skip those that do start with \"From \"\n",
    "        #NB: be sure to add space after from\n",
    "    if not line.startswith(\"From \"):\n",
    "        continue\n",
    "    words = line.split()  #split line into list\n",
    "    time = words[5]      #get time of the day\n",
    "    time = time.split(\":\")\n",
    "    hour = time[0] #get on the domain name\n",
    "    di[hour] = di.get(hour, 0)+1 #if word exist add one, else set default to zero and add 1\n",
    "\n",
    "\n",
    "# Using tuple to find max\n",
    "#Add code to the above program to figure out who has the most messages in the file.\n",
    "lst = list()\n",
    "for k,v in di.items():\n",
    "    lst.append((k,v))\n",
    "\n",
    "for kk,vv in sorted(lst): #note that 0:1 means print only the first element\n",
    "    print(kk,vv)\n",
    "    \n"
   ]
  },
  {
   "cell_type": "code",
   "execution_count": 6,
   "metadata": {},
   "outputs": [
    {
     "name": "stdout",
     "output_type": "stream",
     "text": [
      "Hello welcome to Ex11\n",
      "please enter a file name mbox-short.txt\n",
      "Average is: 39756\n"
     ]
    }
   ],
   "source": [
    "import re\n",
    "\n",
    "print(\"Hello welcome to Ex11\")\n",
    "inp = input(\"please enter a file name \")\n",
    "try:\n",
    "    fh = open(inp)\n",
    "except:\n",
    "    print(inp, \"cannot be opened\")\n",
    "    quit()\n",
    "    \n",
    "\n",
    "#Find all lines of the form, \"New Revision: 39772\" and compute the average   \n",
    "total = 0.\n",
    "count = 0\n",
    "for line in fh:\n",
    "    line = line.rstrip()\n",
    "    x = re.findall(\"^New Revision: ([0-9]+)\", line)\n",
    "    for n in x:\n",
    "        if len(n) > 0:\n",
    "            count += 1\n",
    "            total += float(n)\n",
    "            \n",
    "print(\"Average is:\" ,int(total/count))"
   ]
  },
  {
   "cell_type": "code",
   "execution_count": null,
   "metadata": {},
   "outputs": [],
   "source": []
  },
  {
   "cell_type": "code",
   "execution_count": null,
   "metadata": {},
   "outputs": [],
   "source": [
    "import re\n",
    "\n",
    "print(\"Hello welcome to Ex11\")\n",
    "inp = input(\"please enter a file name \")\n",
    "try:\n",
    "    fh = open(inp)\n",
    "except:\n",
    "    print(inp, \"cannot be opened\")\n",
    "    quit()\n",
    "\n",
    "\n",
    "exp = input(\"Enter a Regular Expression of what you wanna find \")\n",
    "count = 0\n",
    "for line in fh:\n",
    "    line = line.rstrip()\n",
    "    x = re.findall(exp, line)\n",
    "    if len(x) > 0:\n",
    "        count += 1\n",
    "        print(x)\n",
    "\n",
    "print(inp, \"had\", count, \" regular expressions that matched: \", exp)\n"
   ]
  },
  {
   "cell_type": "code",
   "execution_count": null,
   "metadata": {},
   "outputs": [],
   "source": []
  },
  {
   "cell_type": "code",
   "execution_count": null,
   "metadata": {},
   "outputs": [],
   "source": []
  }
 ],
 "metadata": {
  "kernelspec": {
   "display_name": "Python 3",
   "language": "python",
   "name": "python3"
  },
  "language_info": {
   "codemirror_mode": {
    "name": "ipython",
    "version": 3
   },
   "file_extension": ".py",
   "mimetype": "text/x-python",
   "name": "python",
   "nbconvert_exporter": "python",
   "pygments_lexer": "ipython3",
   "version": "3.7.4"
  }
 },
 "nbformat": 4,
 "nbformat_minor": 2
}
